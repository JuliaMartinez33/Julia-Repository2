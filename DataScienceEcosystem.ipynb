{
 "cells": [
  {
   "cell_type": "markdown",
   "id": "d8695370-e40f-447c-b234-db334b5d71ab",
   "metadata": {},
   "source": [
    "Data Science Tools and Ecosystem"
   ]
  },
  {
   "cell_type": "markdown",
   "id": "29f7f364-9475-46ab-ba15-97c2fcfeb9d2",
   "metadata": {},
   "source": [
    "Data Science Tools and Ecosystem\n",
    "\n",
    "\n",
    "\n",
    "\n",
    "In this notebook, Data Science Tools and Ecosystem are summarized.\n"
   ]
  },
  {
   "cell_type": "markdown",
   "id": "a4c976ed-96f8-4037-859e-bd7b3a399104",
   "metadata": {},
   "source": [
    "#Some of the popular languages that Data Scientists use are:\n",
    "1. Python\n",
    "2. R\n",
    "3. SQL\n"
   ]
  },
  {
   "cell_type": "code",
   "execution_count": null,
   "id": "eb706130-f796-4c3c-ba91-1a76741b14ff",
   "metadata": {},
   "outputs": [],
   "source": [
    "#Some of the commonly used libraries used by Data Scientists include:\n",
    "1. Pandas\n",
    "2. NumPy\n",
    "3. Matplotlib\n"
   ]
  },
  {
   "cell_type": "code",
   "execution_count": null,
   "id": "0afc414b-ab46-47c2-8a95-ab44f28673c2",
   "metadata": {},
   "outputs": [],
   "source": [
    "#Data Science Tools:\n",
    "1. Jupyter Notebook\n",
    "2. RStudio\n",
    "3. Apache Zeppelin\n"
   ]
  },
  {
   "cell_type": "code",
   "execution_count": 2,
   "id": "9c5b236f-be40-4408-9d1f-b0f55cc25332",
   "metadata": {},
   "outputs": [
    {
     "data": {
      "text/plain": [
       "9"
      ]
     },
     "execution_count": 2,
     "metadata": {},
     "output_type": "execute_result"
    }
   ],
   "source": [
    "#Below are a few examples of evaluating arithmetic expressions in Python:\n",
    "6+3\n"
   ]
  },
  {
   "cell_type": "code",
   "execution_count": 3,
   "id": "651c1c7c-d856-4073-8d70-860720a649e7",
   "metadata": {},
   "outputs": [
    {
     "data": {
      "text/plain": [
       "1"
      ]
     },
     "execution_count": 3,
     "metadata": {},
     "output_type": "execute_result"
    }
   ],
   "source": [
    "2-1"
   ]
  },
  {
   "cell_type": "code",
   "execution_count": 5,
   "id": "57f44df3-b977-41fb-aa37-35d0f84b9863",
   "metadata": {},
   "outputs": [
    {
     "data": {
      "text/plain": [
       "15"
      ]
     },
     "execution_count": 5,
     "metadata": {},
     "output_type": "execute_result"
    }
   ],
   "source": [
    "3*5"
   ]
  },
  {
   "cell_type": "code",
   "execution_count": 6,
   "id": "93359192-8486-4099-a0d5-178571770d17",
   "metadata": {},
   "outputs": [
    {
     "data": {
      "text/plain": [
       "17"
      ]
     },
     "execution_count": 6,
     "metadata": {},
     "output_type": "execute_result"
    }
   ],
   "source": [
    "#This a simple arithmetic expression to mutiply then add integers\n",
    "(3*4)+5"
   ]
  },
  {
   "cell_type": "code",
   "execution_count": 7,
   "id": "f15b33ee-8b3d-45aa-89e1-7b630c1bf89c",
   "metadata": {},
   "outputs": [
    {
     "data": {
      "text/plain": [
       "3.3333333333333335"
      ]
     },
     "execution_count": 7,
     "metadata": {},
     "output_type": "execute_result"
    }
   ],
   "source": [
    "#This will convert 200 minutes to hours by diving by 60\n",
    "200/60"
   ]
  },
  {
   "cell_type": "code",
   "execution_count": null,
   "id": "17473659-188b-4f17-a6b5-402e78de40f0",
   "metadata": {},
   "outputs": [],
   "source": [
    "#Objetives:\n",
    "* Create a Jupyter Notebook\n",
    "* Insert code and markdown cells\n",
    "* Share your notebook through GitHub"
   ]
  },
  {
   "cell_type": "code",
   "execution_count": null,
   "id": "fd056712-6795-4e89-a018-0cba439411c6",
   "metadata": {},
   "outputs": [],
   "source": [
    "#Author: Julia Martínez"
   ]
  }
 ],
 "metadata": {
  "kernelspec": {
   "display_name": "JuliaPruebas",
   "language": "python",
   "name": "juliapruebas"
  },
  "language_info": {
   "codemirror_mode": {
    "name": "ipython",
    "version": 3
   },
   "file_extension": ".py",
   "mimetype": "text/x-python",
   "name": "python",
   "nbconvert_exporter": "python",
   "pygments_lexer": "ipython3",
   "version": "3.12.11"
  }
 },
 "nbformat": 4,
 "nbformat_minor": 5
}
